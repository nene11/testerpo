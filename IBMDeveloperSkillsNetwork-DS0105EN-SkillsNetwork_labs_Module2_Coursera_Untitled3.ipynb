{
  "metadata": {
    "language_info": {
      "codemirror_mode": {
        "name": "python",
        "version": 3
      },
      "file_extension": ".py",
      "mimetype": "text/x-python",
      "name": "python",
      "nbconvert_exporter": "python",
      "pygments_lexer": "ipython3",
      "version": "3.8"
    },
    "kernelspec": {
      "name": "python",
      "display_name": "Pyolite",
      "language": "python"
    }
  },
  "nbformat_minor": 4,
  "nbformat": 4,
  "cells": [
    {
      "cell_type": "markdown",
      "source": "# My Jupyter Notebook on IBM Watson Studio",
      "metadata": {}
    },
    {
      "cell_type": "markdown",
      "source": "## introduction:\ntooles for data  science",
      "metadata": {}
    },
    {
      "cell_type": "markdown",
      "source": "data science languages:\n1. python\n2. R\n3. SQL\n",
      "metadata": {}
    },
    {
      "cell_type": "markdown",
      "source": "data science libraries\n- NumPy\n- Pandas\n- SciKit-Learn",
      "metadata": {}
    },
    {
      "cell_type": "markdown",
      "source": "data science tools\n| ModelDB | Kibana |\n| ----------- | ----------- |\n| MySQL |  Hadoop |\n| Paragraph | Apache AirFlow | ",
      "metadata": {}
    },
    {
      "cell_type": "markdown",
      "source": "arithmetic expression examples\n1. (3 + 4) the  sum of numbers\n2. (7 - 3) the difference  of two  numbers\n3. (2 5)  a product of two numbers",
      "metadata": {}
    },
    {
      "cell_type": "code",
      "source": "(2*5)+5",
      "metadata": {
        "trusted": true
      },
      "execution_count": 2,
      "outputs": [
        {
          "execution_count": 2,
          "output_type": "execute_result",
          "data": {
            "text/plain": "15"
          },
          "metadata": {}
        }
      ]
    },
    {
      "cell_type": "code",
      "source": "def convert(minu):\n    hour, min = divmod(minu, 60)\n  \n    return '%d:%02d' % (hour, min)\n     \n# Driver program\nn = 90\nprint(convert(n))",
      "metadata": {},
      "execution_count": null,
      "outputs": []
    },
    {
      "cell_type": "markdown",
      "source": "## Objectives\n1. it is important to to explore, sort and analyze megadata from various sources in order to take advantage of them and reach conclusions to optimize business processes or for decision support.",
      "metadata": {}
    },
    {
      "cell_type": "markdown",
      "source": "## Author name\nNihal ALsaied",
      "metadata": {}
    },
    {
      "cell_type": "code",
      "source": "",
      "metadata": {},
      "execution_count": null,
      "outputs": []
    }
  ]
}